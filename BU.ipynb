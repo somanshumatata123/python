{
 "cells": [
  {
   "cell_type": "code",
   "execution_count": 139,
   "id": "2363fd67",
   "metadata": {},
   "outputs": [],
   "source": [
    "import pandas as pd\n",
    "import json"
   ]
  },
  {
   "cell_type": "code",
   "execution_count": 140,
   "id": "e8879a39",
   "metadata": {},
   "outputs": [],
   "source": [
    "f = open('check.json')"
   ]
  },
  {
   "cell_type": "code",
   "execution_count": 141,
   "id": "20a57321",
   "metadata": {},
   "outputs": [],
   "source": [
    "data = json.load(f)"
   ]
  },
  {
   "cell_type": "code",
   "execution_count": 178,
   "id": "a44f88d3",
   "metadata": {},
   "outputs": [],
   "source": [
    "username = []\n",
    "businessunit = []\n",
    "for key , value in data.items():\n",
    "    for valuekey, values in value.items():\n",
    "        if valuekey.lower() == \"PRODUCT\".lower():\n",
    "            for valuekets, productvalues in values.items():\n",
    "                for usernameproductvalues in productvalues:\n",
    "                    username.append(usernameproductvalues)\n",
    "                    businessunit.append(valuekets)\n",
    "        else:\n",
    "            for elseusernames in values:\n",
    "                username.append(elseusernames)\n",
    "                businessunit.append(valuekey)\n",
    "list_of_lists = list(zip(username,businessunit))"
   ]
  },
  {
   "cell_type": "code",
   "execution_count": 179,
   "id": "899007dc",
   "metadata": {},
   "outputs": [
    {
     "data": {
      "text/plain": [
       "[('adamem', 'CWM ENGINEERING'),\n",
       " ('hejonf', 'Consumer Lending'),\n",
       " ('shahis', 'TXB Payment'),\n",
       " ('aasasd', 'TXB Payment'),\n",
       " ('ssdsfdf', 'TXB Payment'),\n",
       " ('sanrof', 'SVT-EMEA'),\n",
       " ('zerogk', 'product::025504'),\n",
       " ('asdd', 'product::022506'),\n",
       " ('josket', 'Agent front office')]"
      ]
     },
     "execution_count": 179,
     "metadata": {},
     "output_type": "execute_result"
    }
   ],
   "source": [
    "list_of_lists"
   ]
  },
  {
   "cell_type": "code",
   "execution_count": 180,
   "id": "c9f41ea9",
   "metadata": {},
   "outputs": [],
   "source": [
    "finaldataframe = pd.DataFrame(list_of_lists, columns=[\"Username\", \"BU\"])"
   ]
  },
  {
   "cell_type": "code",
   "execution_count": 182,
   "id": "7c0e4267",
   "metadata": {},
   "outputs": [],
   "source": [
    "df = pd.read_csv(\"/Users/somanshugupta/Desktop/book1.csv\")\n",
    "df.drop(['incompletelabs'], axis=1, inplace=True)"
   ]
  },
  {
   "cell_type": "code",
   "execution_count": 264,
   "id": "42f72326",
   "metadata": {},
   "outputs": [
    {
     "data": {
      "text/plain": [
       "['hejonf', 'shahis', 'sanrof', 'zarogk', 'josket']"
      ]
     },
     "execution_count": 264,
     "metadata": {},
     "output_type": "execute_result"
    }
   ],
   "source": [
    "exceldict = {}\n",
    "finaluserlist = []\n",
    "exceldict= df.set_index('kerb').T.to_dict('list')\n",
    "for keys, values in exceldict.items():\n",
    "    finaluserlist.append(keys)\n",
    "finaluserlist"
   ]
  },
  {
   "cell_type": "code",
   "execution_count": 319,
   "id": "841388ec",
   "metadata": {},
   "outputs": [],
   "source": [
    "j =0\n",
    "status = []\n",
    "for usernameinfo in username:\n",
    "        if usernameinfo in finaluserlist:\n",
    "            for values in exceldict.get(usernameinfo):\n",
    "                status.append(values)\n",
    "        else:\n",
    "            status.append(\"NA\")"
   ]
  },
  {
   "cell_type": "code",
   "execution_count": 321,
   "id": "edca1368",
   "metadata": {
    "scrolled": true
   },
   "outputs": [],
   "source": [
    "finaldataframe[\"Status\"] = status"
   ]
  },
  {
   "cell_type": "code",
   "execution_count": 324,
   "id": "deef815e",
   "metadata": {},
   "outputs": [],
   "source": [
    "finaldataframe.to_csv(\"finalcsv.csv\", index=None)"
   ]
  }
 ],
 "metadata": {
  "kernelspec": {
   "display_name": "Python 3 (ipykernel)",
   "language": "python",
   "name": "python3"
  },
  "language_info": {
   "codemirror_mode": {
    "name": "ipython",
    "version": 3
   },
   "file_extension": ".py",
   "mimetype": "text/x-python",
   "name": "python",
   "nbconvert_exporter": "python",
   "pygments_lexer": "ipython3",
   "version": "3.11.0"
  }
 },
 "nbformat": 4,
 "nbformat_minor": 5
}
