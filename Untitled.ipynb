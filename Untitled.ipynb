{
 "cells": [
  {
   "cell_type": "code",
   "execution_count": 140,
   "id": "63140bfe",
   "metadata": {},
   "outputs": [],
   "source": [
    "import pandas as pd\n",
    "import re\n"
   ]
  },
  {
   "cell_type": "code",
   "execution_count": 318,
   "id": "eeabb3de",
   "metadata": {},
   "outputs": [],
   "source": [
    "df = pd.read_csv(\"/Users/somanshugupta/Desktop/checklatest.csv\")\n",
    "df[\"combined\"] = df[\"text\"]\n",
    "df2 = df[df.combined.str.contains(\"open\")]\n",
    "df2 = df2.drop(['text', 'combined'], axis=1)\n",
    "df3 = df2['id'].tolist()\n",
    "finaldf = df[df['id'].isin(df3)]\n",
    "finaldf.head(5)\n",
    "finaldflist = finaldf['combined'].tolist()"
   ]
  },
  {
   "cell_type": "code",
   "execution_count": 320,
   "id": "2ba53684",
   "metadata": {},
   "outputs": [],
   "source": [
    "finahost = []\n",
    "finaopenport = []\n",
    "finassl = []\n",
    "for i in finaldflist:\n",
    "    if (\"Nmap\" in i):\n",
    "        finahost.append((i.replace(\"Nmap scan report for \",\"\")))\n",
    "    elif (\"open\" in i):\n",
    "        finaopenport.append(i.replace(\"/tcp open https\",\"\"))\n",
    "    elif (\"ss1-cert\" in i):\n",
    "        finassl.append((i.replace(\"| ss1-cert: Subject: \",\"\")).replace(\"/organizationName-Goldman Sachs & Co. LLC/stateOrProvinceName-New York/countr\",\"\"))\n",
    "list_of_lists = list(zip(finahost,finaopenport, finassl))"
   ]
  },
  {
   "cell_type": "code",
   "execution_count": 321,
   "id": "b4519885",
   "metadata": {
    "scrolled": true
   },
   "outputs": [
    {
     "data": {
      "text/plain": [
       "[('10.1.61.140 ',\n",
       "  '443',\n",
       "  'commonName=c2.ue1.uat2.payments-config-server.cards.aws.cft.site.gs.com '),\n",
       " ('10.1.62.182',\n",
       "  '443',\n",
       "  'commonName=c1.ue1.uat2.customer-document.cards.aws.cft.site.gs.comyName-U '),\n",
       " ('10.1.61.140 ',\n",
       "  '443',\n",
       "  'commonName=c2.ue1.uat2.payments-config-server.cards.aws.cft.site.gs.com '),\n",
       " ('10.1.61.140 ',\n",
       "  '443',\n",
       "  'commonName=c2.ue1.uat2.payments-config-server.cards.aws.cft.site.gs.com ')]"
      ]
     },
     "execution_count": 321,
     "metadata": {},
     "output_type": "execute_result"
    }
   ],
   "source": [
    "list_of_lists\n"
   ]
  },
  {
   "cell_type": "code",
   "execution_count": 322,
   "id": "793bc9ed",
   "metadata": {},
   "outputs": [],
   "source": [
    "finaldataframe = pd.DataFrame(list_of_lists, columns=[\"Host\", \"Port\", \"Common_Name\"])\n"
   ]
  },
  {
   "cell_type": "code",
   "execution_count": 323,
   "id": "f0c173ce",
   "metadata": {},
   "outputs": [
    {
     "data": {
      "text/html": [
       "<div>\n",
       "<style scoped>\n",
       "    .dataframe tbody tr th:only-of-type {\n",
       "        vertical-align: middle;\n",
       "    }\n",
       "\n",
       "    .dataframe tbody tr th {\n",
       "        vertical-align: top;\n",
       "    }\n",
       "\n",
       "    .dataframe thead th {\n",
       "        text-align: right;\n",
       "    }\n",
       "</style>\n",
       "<table border=\"1\" class=\"dataframe\">\n",
       "  <thead>\n",
       "    <tr style=\"text-align: right;\">\n",
       "      <th></th>\n",
       "      <th>Host</th>\n",
       "      <th>Port</th>\n",
       "      <th>Common_Name</th>\n",
       "    </tr>\n",
       "  </thead>\n",
       "  <tbody>\n",
       "    <tr>\n",
       "      <th>0</th>\n",
       "      <td>10.1.61.140</td>\n",
       "      <td>443</td>\n",
       "      <td>commonName=c2.ue1.uat2.payments-config-server....</td>\n",
       "    </tr>\n",
       "    <tr>\n",
       "      <th>1</th>\n",
       "      <td>10.1.62.182</td>\n",
       "      <td>443</td>\n",
       "      <td>commonName=c1.ue1.uat2.customer-document.cards...</td>\n",
       "    </tr>\n",
       "    <tr>\n",
       "      <th>2</th>\n",
       "      <td>10.1.61.140</td>\n",
       "      <td>443</td>\n",
       "      <td>commonName=c2.ue1.uat2.payments-config-server....</td>\n",
       "    </tr>\n",
       "    <tr>\n",
       "      <th>3</th>\n",
       "      <td>10.1.61.140</td>\n",
       "      <td>443</td>\n",
       "      <td>commonName=c2.ue1.uat2.payments-config-server....</td>\n",
       "    </tr>\n",
       "  </tbody>\n",
       "</table>\n",
       "</div>"
      ],
      "text/plain": [
       "           Host Port                                        Common_Name\n",
       "0  10.1.61.140   443  commonName=c2.ue1.uat2.payments-config-server....\n",
       "1   10.1.62.182  443  commonName=c1.ue1.uat2.customer-document.cards...\n",
       "2  10.1.61.140   443  commonName=c2.ue1.uat2.payments-config-server....\n",
       "3  10.1.61.140   443  commonName=c2.ue1.uat2.payments-config-server...."
      ]
     },
     "execution_count": 323,
     "metadata": {},
     "output_type": "execute_result"
    }
   ],
   "source": [
    "finaldataframe"
   ]
  }
 ],
 "metadata": {
  "kernelspec": {
   "display_name": "Python 3 (ipykernel)",
   "language": "python",
   "name": "python3"
  },
  "language_info": {
   "codemirror_mode": {
    "name": "ipython",
    "version": 3
   },
   "file_extension": ".py",
   "mimetype": "text/x-python",
   "name": "python",
   "nbconvert_exporter": "python",
   "pygments_lexer": "ipython3",
   "version": "3.11.0"
  }
 },
 "nbformat": 4,
 "nbformat_minor": 5
}
